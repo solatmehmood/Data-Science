{
 "cells": [
  {
   "metadata": {},
   "cell_type": "markdown",
   "source": "# 1.Data Loading and Exploration",
   "id": "3c2828e569941d4d"
  },
  {
   "metadata": {
    "ExecuteTime": {
     "end_time": "2025-04-21T10:30:48.437047Z",
     "start_time": "2025-04-21T10:30:48.395406Z"
    }
   },
   "cell_type": "code",
   "source": [
    "from enum import unique\n",
    "from statistics import correlation\n",
    "from traceback import print_tb\n",
    "\n",
    "import pandas as pd\n",
    "df=pd.read_csv('student_habits_performance.csv')\n",
    "print(df.info()) # Displays the number of entries, data types, and the count of non-null values for each column\n"
   ],
   "id": "d2d337e4c274e55b",
   "outputs": [
    {
     "name": "stdout",
     "output_type": "stream",
     "text": [
      "<class 'pandas.core.frame.DataFrame'>\n",
      "RangeIndex: 1000 entries, 0 to 999\n",
      "Data columns (total 16 columns):\n",
      " #   Column                         Non-Null Count  Dtype  \n",
      "---  ------                         --------------  -----  \n",
      " 0   student_id                     1000 non-null   object \n",
      " 1   age                            1000 non-null   int64  \n",
      " 2   gender                         1000 non-null   object \n",
      " 3   study_hours_per_day            1000 non-null   float64\n",
      " 4   social_media_hours             1000 non-null   float64\n",
      " 5   netflix_hours                  1000 non-null   float64\n",
      " 6   part_time_job                  1000 non-null   object \n",
      " 7   attendance_percentage          1000 non-null   float64\n",
      " 8   sleep_hours                    1000 non-null   float64\n",
      " 9   diet_quality                   1000 non-null   object \n",
      " 10  exercise_frequency             1000 non-null   int64  \n",
      " 11  parental_education_level       909 non-null    object \n",
      " 12  internet_quality               1000 non-null   object \n",
      " 13  mental_health_rating           1000 non-null   int64  \n",
      " 14  extracurricular_participation  1000 non-null   object \n",
      " 15  exam_score                     1000 non-null   float64\n",
      "dtypes: float64(6), int64(3), object(7)\n",
      "memory usage: 125.1+ KB\n",
      "None\n"
     ]
    }
   ],
   "execution_count": 4
  },
  {
   "metadata": {
    "ExecuteTime": {
     "end_time": "2025-04-21T10:46:30.937596Z",
     "start_time": "2025-04-21T10:46:30.887419Z"
    }
   },
   "cell_type": "code",
   "source": "print(df.describe()) #Provides statistical summaries of numeric columns, including count, mean, standard deviation, min, max",
   "id": "22f75362db3f0ae6",
   "outputs": [
    {
     "name": "stdout",
     "output_type": "stream",
     "text": [
      "             age  study_hours_per_day  social_media_hours  netflix_hours  \\\n",
      "count  1000.0000           1000.00000         1000.000000    1000.000000   \n",
      "mean     20.4980              3.55010            2.505500       1.819700   \n",
      "std       2.3081              1.46889            1.172422       1.075118   \n",
      "min      17.0000              0.00000            0.000000       0.000000   \n",
      "25%      18.7500              2.60000            1.700000       1.000000   \n",
      "50%      20.0000              3.50000            2.500000       1.800000   \n",
      "75%      23.0000              4.50000            3.300000       2.525000   \n",
      "max      24.0000              8.30000            7.200000       5.400000   \n",
      "\n",
      "       attendance_percentage  sleep_hours  exercise_frequency  \\\n",
      "count            1000.000000  1000.000000         1000.000000   \n",
      "mean               84.131700     6.470100            3.042000   \n",
      "std                 9.399246     1.226377            2.025423   \n",
      "min                56.000000     3.200000            0.000000   \n",
      "25%                78.000000     5.600000            1.000000   \n",
      "50%                84.400000     6.500000            3.000000   \n",
      "75%                91.025000     7.300000            5.000000   \n",
      "max               100.000000    10.000000            6.000000   \n",
      "\n",
      "       mental_health_rating   exam_score  \n",
      "count           1000.000000  1000.000000  \n",
      "mean               5.438000    69.601500  \n",
      "std                2.847501    16.888564  \n",
      "min                1.000000    18.400000  \n",
      "25%                3.000000    58.475000  \n",
      "50%                5.000000    70.500000  \n",
      "75%                8.000000    81.325000  \n",
      "max               10.000000   100.000000  \n"
     ]
    }
   ],
   "execution_count": 8
  },
  {
   "metadata": {},
   "cell_type": "markdown",
   "source": "# 2. Data Cleaning",
   "id": "923c641b5775b33a"
  },
  {
   "metadata": {},
   "cell_type": "markdown",
   "source": "#### Check for missing values",
   "id": "585fe0073862839"
  },
  {
   "metadata": {
    "ExecuteTime": {
     "end_time": "2025-04-21T10:46:41.279328Z",
     "start_time": "2025-04-21T10:46:41.263991Z"
    }
   },
   "cell_type": "code",
   "source": "print(df.isnull().sum())",
   "id": "6f5032bb246295de",
   "outputs": [
    {
     "name": "stdout",
     "output_type": "stream",
     "text": [
      "student_id                        0\n",
      "age                               0\n",
      "gender                            0\n",
      "study_hours_per_day               0\n",
      "social_media_hours                0\n",
      "netflix_hours                     0\n",
      "part_time_job                     0\n",
      "attendance_percentage             0\n",
      "sleep_hours                       0\n",
      "diet_quality                      0\n",
      "exercise_frequency                0\n",
      "parental_education_level         91\n",
      "internet_quality                  0\n",
      "mental_health_rating              0\n",
      "extracurricular_participation     0\n",
      "exam_score                        0\n",
      "dtype: int64\n"
     ]
    }
   ],
   "execution_count": 9
  },
  {
   "metadata": {},
   "cell_type": "markdown",
   "source": "#### Handle the missing values",
   "id": "18138f0fd13b6640"
  },
  {
   "metadata": {
    "ExecuteTime": {
     "end_time": "2025-04-21T10:55:00.356270Z",
     "start_time": "2025-04-21T10:55:00.342260Z"
    }
   },
   "cell_type": "code",
   "source": [
    "# replace the none with no eduction\n",
    "df['parental_education_level']=df['parental_education_level'].fillna('No formal education')\n",
    "df['parental_education_level'].unique() # confirms the change"
   ],
   "id": "d447890c7341765f",
   "outputs": [
    {
     "data": {
      "text/plain": [
       "array(['Master', 'High School', 'Bachelor', 'No formal education'],\n",
       "      dtype=object)"
      ]
     },
     "execution_count": 18,
     "metadata": {},
     "output_type": "execute_result"
    }
   ],
   "execution_count": 18
  },
  {
   "metadata": {},
   "cell_type": "markdown",
   "source": [
    "\n",
    "#### Check for duplicate rows"
   ],
   "id": "96538893e4ff1520"
  },
  {
   "metadata": {
    "ExecuteTime": {
     "end_time": "2025-04-21T10:55:37.887286Z",
     "start_time": "2025-04-21T10:55:37.865193Z"
    }
   },
   "cell_type": "code",
   "source": "print(df.duplicated().sum())",
   "id": "a26cb4f535f4f8d",
   "outputs": [
    {
     "name": "stdout",
     "output_type": "stream",
     "text": [
      "0\n"
     ]
    }
   ],
   "execution_count": 19
  },
  {
   "metadata": {},
   "cell_type": "markdown",
   "source": "# 3.Understanding the Data",
   "id": "5e97c11e6724fd04"
  },
  {
   "metadata": {},
   "cell_type": "markdown",
   "source": "#### Inspect unique values in columns like 'gender', 'part_time_job'",
   "id": "ea15a58e8f323591"
  },
  {
   "metadata": {
    "ExecuteTime": {
     "end_time": "2025-04-21T11:00:25.297232Z",
     "start_time": "2025-04-21T11:00:25.281846Z"
    }
   },
   "cell_type": "code",
   "source": [
    "print(\"Values for gender column: \",df['gender'].unique())\n",
    "print(\"Values for Part Time Job column: \",df['part_time_job'].unique())"
   ],
   "id": "a358fd05878894a9",
   "outputs": [
    {
     "name": "stdout",
     "output_type": "stream",
     "text": [
      "Values for gender column:  ['Female' 'Male' 'Other']\n",
      "Values for Part Time Job column:  ['No' 'Yes']\n"
     ]
    }
   ],
   "execution_count": 25
  },
  {
   "metadata": {},
   "cell_type": "markdown",
   "source": "#### count how many students fall into each category",
   "id": "b1a0cd259a5b90f0"
  },
  {
   "metadata": {
    "ExecuteTime": {
     "end_time": "2025-04-21T11:11:12.464534Z",
     "start_time": "2025-04-21T11:11:12.446652Z"
    }
   },
   "cell_type": "code",
   "source": [
    "counts = df.groupby(['gender','part_time_job']).size().reset_index(name='counts')\n",
    "print(counts)"
   ],
   "id": "6a3543f6f911bcf4",
   "outputs": [
    {
     "name": "stdout",
     "output_type": "stream",
     "text": [
      "   gender part_time_job  counts\n",
      "0  Female            No     385\n",
      "1  Female           Yes      96\n",
      "2    Male            No     368\n",
      "3    Male           Yes     109\n",
      "4   Other            No      32\n",
      "5   Other           Yes      10\n"
     ]
    }
   ],
   "execution_count": 31
  },
  {
   "metadata": {},
   "cell_type": "markdown",
   "source": "# 4. Statistical Summary",
   "id": "899ca8e02123eeba"
  },
  {
   "metadata": {},
   "cell_type": "markdown",
   "source": "#### Calculate average grades based on gender, study_hours, and part_time_job",
   "id": "d3dff008b9870b1d"
  },
  {
   "metadata": {
    "ExecuteTime": {
     "end_time": "2025-04-21T11:33:28.597331Z",
     "start_time": "2025-04-21T11:33:28.580618Z"
    }
   },
   "cell_type": "code",
   "source": [
    "# average grades based on gender\n",
    "grades_gender = df.groupby('gender')['exam_score'].mean()\n",
    "print(\"Grades on gender base\\n \",grades_gender.round(2))\n"
   ],
   "id": "c1aab6a99f835c4e",
   "outputs": [
    {
     "name": "stdout",
     "output_type": "stream",
     "text": [
      "Grades on gender base\n",
      "  gender\n",
      "Female    69.74\n",
      "Male      69.37\n",
      "Other     70.65\n",
      "Name: exam_score, dtype: float64\n",
      "Grades on gender base\n",
      "  study_hours_per_day\n",
      "0.0     40.81\n",
      "0.1     53.40\n",
      "0.2     31.50\n",
      "0.3     32.62\n",
      "0.5     39.52\n",
      "        ...  \n",
      "7.4     99.23\n",
      "7.5    100.00\n",
      "7.6    100.00\n",
      "8.2    100.00\n",
      "8.3    100.00\n",
      "Name: exam_score, Length: 78, dtype: float64\n"
     ]
    }
   ],
   "execution_count": 46
  },
  {
   "metadata": {
    "ExecuteTime": {
     "end_time": "2025-04-21T11:43:12.993270Z",
     "start_time": "2025-04-21T11:43:12.972181Z"
    }
   },
   "cell_type": "code",
   "source": [
    "#average grades based on study hours\n",
    "grades_study = df.groupby('study_hours_per_day')['exam_score'].mean().reset_index()\n",
    "print(\"Grades on gender base\\n \",grades_study.round(2))"
   ],
   "id": "55bbf7b8e72ccd07",
   "outputs": [
    {
     "name": "stdout",
     "output_type": "stream",
     "text": [
      "Grades on gender base\n",
      "      study_hours_per_day  exam_score\n",
      "0                   0.0       40.81\n",
      "1                   0.1       53.40\n",
      "2                   0.2       31.50\n",
      "3                   0.3       32.62\n",
      "4                   0.5       39.52\n",
      "..                  ...         ...\n",
      "73                  7.4       99.23\n",
      "74                  7.5      100.00\n",
      "75                  7.6      100.00\n",
      "76                  8.2      100.00\n",
      "77                  8.3      100.00\n",
      "\n",
      "[78 rows x 2 columns]\n"
     ]
    }
   ],
   "execution_count": 48
  },
  {
   "metadata": {},
   "cell_type": "code",
   "outputs": [],
   "execution_count": null,
   "source": [
    "# average grades bases on part time job\n",
    "grades_job = df.groupby('part_time_job')['exam_score'].mean().reset_index()\n",
    "print(\"Grades on gender base\\n \",grades_job.round(2))"
   ],
   "id": "eb669a7940650291"
  },
  {
   "metadata": {},
   "cell_type": "markdown",
   "source": "#### Find correlation between continuous variables",
   "id": "d38d0517d85286b"
  },
  {
   "metadata": {
    "ExecuteTime": {
     "end_time": "2025-04-21T11:51:21.335761Z",
     "start_time": "2025-04-21T11:51:21.315882Z"
    }
   },
   "cell_type": "code",
   "source": [
    "# Correlation means how much two things are connected i.e. directly proportional or inversely proportional\n",
    "correlation_cols=df.corr(numeric_only=True) # correlation between numeric values of all columns\n",
    "print(correlation_cols)"
   ],
   "id": "4e082d5e8649e2cc",
   "outputs": [
    {
     "name": "stdout",
     "output_type": "stream",
     "text": [
      "                            age  study_hours_per_day  social_media_hours  \\\n",
      "age                    1.000000             0.003971           -0.009151   \n",
      "study_hours_per_day    0.003971             1.000000            0.020282   \n",
      "social_media_hours    -0.009151             0.020282            1.000000   \n",
      "netflix_hours         -0.001174            -0.031158            0.011477   \n",
      "attendance_percentage -0.026055             0.026264            0.040479   \n",
      "sleep_hours            0.037482            -0.027757            0.018236   \n",
      "exercise_frequency    -0.003836            -0.028701           -0.037319   \n",
      "mental_health_rating  -0.045101            -0.003768            0.001496   \n",
      "exam_score            -0.008907             0.825419           -0.166733   \n",
      "\n",
      "                       netflix_hours  attendance_percentage  sleep_hours  \\\n",
      "age                        -0.001174              -0.026055     0.037482   \n",
      "study_hours_per_day        -0.031158               0.026264    -0.027757   \n",
      "social_media_hours          0.011477               0.040479     0.018236   \n",
      "netflix_hours               1.000000              -0.002092    -0.000935   \n",
      "attendance_percentage      -0.002092               1.000000     0.013756   \n",
      "sleep_hours                -0.000935               0.013756     1.000000   \n",
      "exercise_frequency         -0.006448              -0.007857     0.019769   \n",
      "mental_health_rating        0.008034              -0.018745    -0.006508   \n",
      "exam_score                 -0.171779               0.089836     0.121683   \n",
      "\n",
      "                       exercise_frequency  mental_health_rating  exam_score  \n",
      "age                             -0.003836             -0.045101   -0.008907  \n",
      "study_hours_per_day             -0.028701             -0.003768    0.825419  \n",
      "social_media_hours              -0.037319              0.001496   -0.166733  \n",
      "netflix_hours                   -0.006448              0.008034   -0.171779  \n",
      "attendance_percentage           -0.007857             -0.018745    0.089836  \n",
      "sleep_hours                      0.019769             -0.006508    0.121683  \n",
      "exercise_frequency               1.000000             -0.000242    0.160107  \n",
      "mental_health_rating            -0.000242              1.000000    0.321523  \n",
      "exam_score                       0.160107              0.321523    1.000000  \n"
     ]
    }
   ],
   "execution_count": 54
  },
  {
   "metadata": {},
   "cell_type": "markdown",
   "source": "# 5.Sorting and Filtering",
   "id": "3980f43dbf3fef7c"
  },
  {
   "metadata": {},
   "cell_type": "markdown",
   "source": "#### List top 10 students with highest grades",
   "id": "c9824649069880f6"
  },
  {
   "metadata": {
    "ExecuteTime": {
     "end_time": "2025-04-21T11:57:46.729823Z",
     "start_time": "2025-04-21T11:57:46.708076Z"
    }
   },
   "cell_type": "code",
   "source": [
    "sort_grades=df.sort_values(by=['exam_score'], ascending=False)\n",
    "print(sort_grades.head(10))"
   ],
   "id": "efbd3f6addc0faef",
   "outputs": [
    {
     "name": "stdout",
     "output_type": "stream",
     "text": [
      "    student_id  age  gender  study_hours_per_day  social_media_hours  \\\n",
      "960      S1960   17    Male                  7.1                 1.9   \n",
      "908      S1908   23  Female                  5.6                 2.8   \n",
      "945      S1945   23    Male                  6.0                 2.9   \n",
      "885      S1885   21    Male                  5.2                 0.0   \n",
      "875      S1875   19  Female                  7.6                 3.0   \n",
      "797      S1797   23    Male                  8.2                 2.2   \n",
      "835      S1835   20  Female                  5.1                 2.6   \n",
      "774      S1774   18  Female                  7.5                 3.6   \n",
      "778      S1778   24    Male                  5.1                 0.5   \n",
      "69       S1069   22    Male                  6.8                 3.7   \n",
      "\n",
      "     netflix_hours part_time_job  attendance_percentage  sleep_hours  \\\n",
      "960            1.1           Yes                   69.3          5.6   \n",
      "908            0.5           Yes                   92.2          9.4   \n",
      "945            2.1           Yes                   98.9          6.4   \n",
      "885            1.3            No                   87.7          8.7   \n",
      "875            2.9            No                   99.4          4.8   \n",
      "797            1.5            No                   83.1          5.7   \n",
      "835            1.8            No                   83.4          6.5   \n",
      "774            1.9           Yes                   85.9          7.8   \n",
      "778            1.4            No                   88.9          4.1   \n",
      "69             1.8            No                   72.3          7.5   \n",
      "\n",
      "    diet_quality  exercise_frequency parental_education_level  \\\n",
      "960         Good                   6              High School   \n",
      "908         Fair                   4                 Bachelor   \n",
      "945         Poor                   0      No formal education   \n",
      "885         Fair                   6              High School   \n",
      "875         Poor                   0              High School   \n",
      "797         Poor                   2                   Master   \n",
      "835         Fair                   6              High School   \n",
      "774         Fair                   6                 Bachelor   \n",
      "778         Good                   4                 Bachelor   \n",
      "69          Poor                   6                   Master   \n",
      "\n",
      "    internet_quality  mental_health_rating extracurricular_participation  \\\n",
      "960          Average                     6                            No   \n",
      "908             Good                     8                            No   \n",
      "945          Average                     7                            No   \n",
      "885             Poor                     8                            No   \n",
      "875             Good                     3                            No   \n",
      "797             Good                     5                           Yes   \n",
      "835          Average                    10                            No   \n",
      "774          Average                     3                            No   \n",
      "778          Average                     8                            No   \n",
      "69           Average                     5                            No   \n",
      "\n",
      "     exam_score  \n",
      "960       100.0  \n",
      "908       100.0  \n",
      "945       100.0  \n",
      "885       100.0  \n",
      "875       100.0  \n",
      "797       100.0  \n",
      "835       100.0  \n",
      "774       100.0  \n",
      "778       100.0  \n",
      "69        100.0  \n"
     ]
    }
   ],
   "execution_count": 61
  },
  {
   "metadata": {},
   "cell_type": "markdown",
   "source": "#### Filter students who study more than 4 hours/day but sleep less than 6 hours",
   "id": "7765b853e0fd7d65"
  },
  {
   "metadata": {
    "ExecuteTime": {
     "end_time": "2025-04-21T12:02:53.877637Z",
     "start_time": "2025-04-21T12:02:53.852610Z"
    }
   },
   "cell_type": "code",
   "source": [
    "std=df[(df['study_hours_per_day']>4) &(df['sleep_hours']<6)]\n",
    "print(std)"
   ],
   "id": "865698028d1e3030",
   "outputs": [
    {
     "name": "stdout",
     "output_type": "stream",
     "text": [
      "    student_id  age  gender  study_hours_per_day  social_media_hours  \\\n",
      "1        S1001   20  Female                  6.9                 2.8   \n",
      "4        S1004   19  Female                  5.0                 4.4   \n",
      "7        S1007   21  Female                  4.3                 1.0   \n",
      "10       S1010   19  Female                  4.6                 3.7   \n",
      "37       S1037   17    Male                  4.3                 2.5   \n",
      "..         ...  ...     ...                  ...                 ...   \n",
      "970      S1970   24  Female                  4.2                 2.4   \n",
      "972      S1972   17  Female                  4.5                 0.4   \n",
      "973      S1973   19    Male                  4.4                 4.3   \n",
      "985      S1985   18    Male                  5.7                 3.1   \n",
      "991      S1991   20    Male                  6.0                 2.1   \n",
      "\n",
      "     netflix_hours part_time_job  attendance_percentage  sleep_hours  \\\n",
      "1              2.3            No                   97.3          4.6   \n",
      "4              0.5            No                   90.9          4.9   \n",
      "7              2.0           Yes                   77.7          4.6   \n",
      "10             0.8            No                   77.6          5.8   \n",
      "37             0.0           Yes                   64.1          3.9   \n",
      "..             ...           ...                    ...          ...   \n",
      "970            1.5            No                   83.2          5.1   \n",
      "972            3.0            No                  100.0          5.5   \n",
      "973            3.2            No                   76.0          5.4   \n",
      "985            0.0           Yes                   86.6          5.7   \n",
      "991            3.0            No                   86.7          5.1   \n",
      "\n",
      "    diet_quality  exercise_frequency parental_education_level  \\\n",
      "1           Good                   6              High School   \n",
      "4           Fair                   3                   Master   \n",
      "7           Fair                   0                 Bachelor   \n",
      "10          Fair                   1      No formal education   \n",
      "37          Good                   0              High School   \n",
      "..           ...                 ...                      ...   \n",
      "970         Fair                   3                 Bachelor   \n",
      "972         Fair                   3              High School   \n",
      "973         Good                   4                   Master   \n",
      "985         Fair                   2                   Master   \n",
      "991         Good                   2              High School   \n",
      "\n",
      "    internet_quality  mental_health_rating extracurricular_participation  \\\n",
      "1            Average                     8                            No   \n",
      "4               Good                     1                            No   \n",
      "7            Average                     8                            No   \n",
      "10              Good                     3                            No   \n",
      "37           Average                     2                            No   \n",
      "..               ...                   ...                           ...   \n",
      "970          Average                     9                           Yes   \n",
      "972             Good                     8                            No   \n",
      "973             Good                     8                            No   \n",
      "985             Good                     3                           Yes   \n",
      "991             Good                     3                            No   \n",
      "\n",
      "     exam_score  \n",
      "1         100.0  \n",
      "4          66.4  \n",
      "7          72.6  \n",
      "10         63.3  \n",
      "37         59.4  \n",
      "..          ...  \n",
      "970        85.9  \n",
      "972        91.9  \n",
      "973        74.6  \n",
      "985        80.9  \n",
      "991        85.3  \n",
      "\n",
      "[133 rows x 16 columns]\n"
     ]
    }
   ],
   "execution_count": 67
  },
  {
   "metadata": {},
   "cell_type": "markdown",
   "source": "#### Investigate if more sleep_hours correlate with higher grades",
   "id": "3f548a11904e8356"
  },
  {
   "metadata": {
    "ExecuteTime": {
     "end_time": "2025-04-21T12:27:01.941787Z",
     "start_time": "2025-04-21T12:27:01.928846Z"
    }
   },
   "cell_type": "code",
   "source": [
    "corr_sleep_grades=df['sleep_hours'].corr(df['exam_score'])\n",
    "print(corr_sleep_grades.round(2))"
   ],
   "id": "8d660d6a76afd9b6",
   "outputs": [
    {
     "name": "stdout",
     "output_type": "stream",
     "text": [
      "0.12\n"
     ]
    }
   ],
   "execution_count": 69
  },
  {
   "metadata": {},
   "cell_type": "markdown",
   "source": "# 7. Create New Columns (Feature Engineering)",
   "id": "c0c6800f5845bc65"
  },
  {
   "metadata": {},
   "cell_type": "markdown",
   "source": "#### Create 'is_high_achiever' column",
   "id": "ec1f52c14d76c5f0"
  },
  {
   "metadata": {},
   "cell_type": "code",
   "outputs": [],
   "execution_count": null,
   "source": [
    "# create a column where exam score is more than 85\n",
    "df['is_higher_acheiver']=df['exam_score']>85\n",
    "print('New column added successfully')"
   ],
   "id": "737787d799c5bd91"
  },
  {
   "metadata": {},
   "cell_type": "markdown",
   "source": "#### Create 'is_sleep_deprived' column",
   "id": "e0bd41b03fd68fc9"
  },
  {
   "metadata": {
    "ExecuteTime": {
     "end_time": "2025-04-21T12:35:53.164409Z",
     "start_time": "2025-04-21T12:35:53.152099Z"
    }
   },
   "cell_type": "code",
   "source": [
    "# create a column where sleep hour is more than 6 hours\n",
    "df['is_sleep_depeived']=df['sleep_hours']>6\n",
    "print('New column added successfully')\n"
   ],
   "id": "66ea374b83fe38f1",
   "outputs": [
    {
     "name": "stdout",
     "output_type": "stream",
     "text": [
      "New column added successfully\n"
     ]
    }
   ],
   "execution_count": 75
  },
  {
   "metadata": {},
   "cell_type": "markdown",
   "source": "# 8.Final Output",
   "id": "21e4322ed7091cbc"
  },
  {
   "metadata": {},
   "cell_type": "markdown",
   "source": "##### Export cleaned or filtered datasets",
   "id": "32a4234af2715d70"
  },
  {
   "metadata": {
    "ExecuteTime": {
     "end_time": "2025-04-21T12:42:45.581792Z",
     "start_time": "2025-04-21T12:42:45.540111Z"
    }
   },
   "cell_type": "code",
   "source": [
    "df.to_csv('student_habits_performance_cleaned.csv')\n",
    "print(\"New file is generated\")"
   ],
   "id": "9c4b6ddda5c049ef",
   "outputs": [
    {
     "name": "stdout",
     "output_type": "stream",
     "text": [
      "New file is generated\n"
     ]
    }
   ],
   "execution_count": 77
  },
  {
   "metadata": {},
   "cell_type": "code",
   "outputs": [],
   "execution_count": null,
   "source": "",
   "id": "ac98ddb8f9086fbd"
  }
 ],
 "metadata": {
  "kernelspec": {
   "display_name": "Python 3",
   "language": "python",
   "name": "python3"
  },
  "language_info": {
   "codemirror_mode": {
    "name": "ipython",
    "version": 2
   },
   "file_extension": ".py",
   "mimetype": "text/x-python",
   "name": "python",
   "nbconvert_exporter": "python",
   "pygments_lexer": "ipython2",
   "version": "2.7.6"
  }
 },
 "nbformat": 4,
 "nbformat_minor": 5
}
