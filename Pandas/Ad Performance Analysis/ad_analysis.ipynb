{
 "cells": [
  {
   "metadata": {},
   "cell_type": "markdown",
   "source": "# 1. Data Cleaning & Preperation",
   "id": "4e1a6af00d8007dd"
  },
  {
   "metadata": {},
   "cell_type": "markdown",
   "source": "#### Load the data",
   "id": "a8dce618bc8f6942"
  },
  {
   "metadata": {
    "ExecuteTime": {
     "end_time": "2025-04-19T14:52:47.572183Z",
     "start_time": "2025-04-19T14:52:47.519866Z"
    }
   },
   "cell_type": "code",
   "source": [
    "from statistics import correlation\n",
    "\n",
    "import pandas as pd\n",
    "ad_data=pd.read_csv('ad_data.csv')\n",
    "print(ad_data.columns)\n",
    "# print(ad_data.head())"
   ],
   "id": "13b6fc256d5a5949",
   "outputs": [
    {
     "name": "stdout",
     "output_type": "stream",
     "text": [
      "Index(['Unnamed: 0', 'timestamp', 'page_views', 'ad_spend', 'is_weekend',\n",
      "       'day_of_week', 'is_holiday'],\n",
      "      dtype='object')\n"
     ]
    }
   ],
   "execution_count": 9
  },
  {
   "metadata": {},
   "cell_type": "markdown",
   "source": "#### Drop the Unnamed: 0 column",
   "id": "95ecd30e5156242f"
  },
  {
   "metadata": {
    "ExecuteTime": {
     "end_time": "2025-04-19T14:53:41.748983Z",
     "start_time": "2025-04-19T14:53:41.728038Z"
    }
   },
   "cell_type": "code",
   "source": [
    "ad_data=ad_data.drop(columns=['Unnamed: 0'])\n",
    "print(ad_data.head())\n"
   ],
   "id": "9e03d3e37ddee2fb",
   "outputs": [
    {
     "name": "stdout",
     "output_type": "stream",
     "text": [
      "    timestamp   page_views    ad_spend  is_weekend day_of_week  is_holiday\n",
      "0  2022-01-01  1165.962767  194.901425        True    Saturday        True\n",
      "1  2022-01-02  1191.485835  175.852071        True      Sunday       False\n",
      "2  2022-01-03  1266.928269  269.430656       False      Monday       False\n",
      "3  2022-01-04  1364.193858  295.690896       False     Tuesday       False\n",
      "4  2022-01-05  1013.282520  242.975399       False   Wednesday       False\n"
     ]
    }
   ],
   "execution_count": 10
  },
  {
   "metadata": {},
   "cell_type": "markdown",
   "source": "#### Convert timestamp to datetime format",
   "id": "1bdf716b32dbcd06"
  },
  {
   "metadata": {
    "ExecuteTime": {
     "end_time": "2025-04-19T14:56:37.240275Z",
     "start_time": "2025-04-19T14:56:37.211682Z"
    }
   },
   "cell_type": "code",
   "source": [
    "ad_data['timestamp']=pd.to_datetime(ad_data['timestamp'])\n",
    "print(\"Timestamp is converted to datetime\")"
   ],
   "id": "3f0e022079544839",
   "outputs": [
    {
     "name": "stdout",
     "output_type": "stream",
     "text": [
      "Timestamp is converted to datetime\n"
     ]
    }
   ],
   "execution_count": 11
  },
  {
   "metadata": {},
   "cell_type": "markdown",
   "source": "#### Set timestamp as the DataFrame index",
   "id": "be926908b1f18c26"
  },
  {
   "metadata": {
    "ExecuteTime": {
     "end_time": "2025-04-19T14:58:26.862070Z",
     "start_time": "2025-04-19T14:58:26.851527Z"
    }
   },
   "cell_type": "code",
   "source": [
    "ad_data.set_index('timestamp', inplace=True)\n",
    "print(\"Timestamp is converted to datetime\")"
   ],
   "id": "64cae1598eb1c0eb",
   "outputs": [
    {
     "name": "stdout",
     "output_type": "stream",
     "text": [
      "Timestamp is converted to datetime\n"
     ]
    }
   ],
   "execution_count": 12
  },
  {
   "metadata": {},
   "cell_type": "markdown",
   "source": "#### Check for missing values and handle them",
   "id": "103f8325aacc2544"
  },
  {
   "metadata": {
    "ExecuteTime": {
     "end_time": "2025-04-19T14:59:20.856462Z",
     "start_time": "2025-04-19T14:59:20.821222Z"
    }
   },
   "cell_type": "code",
   "source": "print(ad_data.isnull().sum())",
   "id": "bf69cc46424b659",
   "outputs": [
    {
     "name": "stdout",
     "output_type": "stream",
     "text": [
      "page_views     0\n",
      "ad_spend       0\n",
      "is_weekend     0\n",
      "day_of_week    0\n",
      "is_holiday     0\n",
      "dtype: int64\n"
     ]
    }
   ],
   "execution_count": 13
  },
  {
   "metadata": {},
   "cell_type": "markdown",
   "source": "#### Check for and remove any duplicate rows",
   "id": "6447b96013d64704"
  },
  {
   "metadata": {
    "ExecuteTime": {
     "end_time": "2025-04-19T15:00:52.393636Z",
     "start_time": "2025-04-19T15:00:52.379482Z"
    }
   },
   "cell_type": "code",
   "source": "print(ad_data.duplicated().sum())",
   "id": "56cf85fa5dd41f93",
   "outputs": [
    {
     "name": "stdout",
     "output_type": "stream",
     "text": [
      "0\n"
     ]
    }
   ],
   "execution_count": 14
  },
  {
   "metadata": {},
   "cell_type": "markdown",
   "source": "#### Check data types and ensure all are correct",
   "id": "a1de93314244a0d4"
  },
  {
   "metadata": {
    "ExecuteTime": {
     "end_time": "2025-04-19T15:34:02.338811Z",
     "start_time": "2025-04-19T15:34:02.294871Z"
    }
   },
   "cell_type": "code",
   "source": "print(ad_data.dtypes)",
   "id": "ed906595685ea709",
   "outputs": [
    {
     "name": "stdout",
     "output_type": "stream",
     "text": [
      "page_views     float64\n",
      "ad_spend       float64\n",
      "is_weekend        bool\n",
      "day_of_week     object\n",
      "is_holiday        bool\n",
      "dtype: object\n"
     ]
    }
   ],
   "execution_count": 18
  },
  {
   "metadata": {},
   "cell_type": "markdown",
   "source": "# 2. Exploratory Data Analysis (EDA)",
   "id": "e3e465856bbffc85"
  },
  {
   "metadata": {},
   "cell_type": "markdown",
   "source": "#### Find basic stats (mean, median, std) for page_views and ad_spend",
   "id": "a550f93c1b52ac1b"
  },
  {
   "metadata": {},
   "cell_type": "markdown",
   "source": "##### Find the mean",
   "id": "d9e3b1e8ad1e7b98"
  },
  {
   "metadata": {
    "ExecuteTime": {
     "end_time": "2025-04-19T15:40:05.437007Z",
     "start_time": "2025-04-19T15:40:05.421429Z"
    }
   },
   "cell_type": "code",
   "source": [
    "#mean is the average value\n",
    "page_views_mean=ad_data['page_views'].mean()\n",
    "ad_spend=ad_data['ad_spend'].mean()\n",
    "print(\"Page Views mean: \",page_views_mean)\n",
    "print(\"Ad Spend mean: \",ad_spend)"
   ],
   "id": "7eca59c9ce06cdba",
   "outputs": [
    {
     "name": "stdout",
     "output_type": "stream",
     "text": [
      "Page Views mean:  1553.196103873606\n",
      "Ad Spend mean:  249.5184663423933\n"
     ]
    }
   ],
   "execution_count": 22
  },
  {
   "metadata": {},
   "cell_type": "markdown",
   "source": "#### Find the median",
   "id": "eef7e550bd7fd5b4"
  },
  {
   "metadata": {
    "ExecuteTime": {
     "end_time": "2025-04-19T15:41:42.208478Z",
     "start_time": "2025-04-19T15:41:42.191072Z"
    }
   },
   "cell_type": "code",
   "source": [
    "# median is the middle value when data is sorted\n",
    "page_views_median=ad_data['page_views'].median()\n",
    "ad_spend_median=ad_data['ad_spend'].median()\n",
    "print(\"Page Views median: \",page_views_median)\n",
    "print(\"Ad Spend median: \",ad_spend_median)"
   ],
   "id": "5feb1835f3628de7",
   "outputs": [
    {
     "name": "stdout",
     "output_type": "stream",
     "text": [
      "Page Views median:  1562.0695948974926\n",
      "Ad Spend median:  240.46575170748\n"
     ]
    }
   ],
   "execution_count": 23
  },
  {
   "metadata": {},
   "cell_type": "markdown",
   "source": "#### Find the standard deviation",
   "id": "d1d03e9955bb3c83"
  },
  {
   "metadata": {
    "ExecuteTime": {
     "end_time": "2025-04-19T15:48:04.613886Z",
     "start_time": "2025-04-19T15:48:04.597246Z"
    }
   },
   "cell_type": "code",
   "source": [
    "page_views_Std=ad_data['page_views'].std()\n",
    "ad_spend_Std=ad_data['ad_spend'].std()\n",
    "print(\"Page Views standard deviation: \",page_views_Std)\n",
    "print(\"Ad Spend standard deviation: \",ad_spend_Std)"
   ],
   "id": "6e03e1984f6ab05b",
   "outputs": [
    {
     "name": "stdout",
     "output_type": "stream",
     "text": [
      "Page Views standard deviation:  277.14416046980796\n",
      "Ad Spend standard deviation:  73.05512902240615\n"
     ]
    }
   ],
   "execution_count": 24
  },
  {
   "metadata": {},
   "cell_type": "markdown",
   "source": "####  average page views and ad spend by day_of_week",
   "id": "3b6559eb4d23f4b4"
  },
  {
   "metadata": {
    "ExecuteTime": {
     "end_time": "2025-04-19T16:31:12.840877Z",
     "start_time": "2025-04-19T16:31:12.824686Z"
    }
   },
   "cell_type": "code",
   "source": [
    "adSpend_weekdays=ad_data.loc[ad_data['is_weekend']==False,'ad_spend'].mean()\n",
    "pageView_weekdays=ad_data.loc[ad_data['is_weekend']==False,'page_views'].mean()\n",
    "print(\"Average ad spend on weekdays:\",round(adSpend_weekdays,2))\n",
    "print(\"Average page view on weekdays:\",round(pageView_weekdays,2))"
   ],
   "id": "28c5341f9c9a4682",
   "outputs": [
    {
     "name": "stdout",
     "output_type": "stream",
     "text": [
      "Average ad spend on weekdays: 268.66\n",
      "Average page view on weekdays: 1519.59\n"
     ]
    }
   ],
   "execution_count": 35
  },
  {
   "metadata": {},
   "cell_type": "markdown",
   "source": "####  Compare performance on weekend vs weekday",
   "id": "277e100ff1cb8b7b"
  },
  {
   "metadata": {
    "ExecuteTime": {
     "end_time": "2025-04-19T16:32:02.092288Z",
     "start_time": "2025-04-19T16:32:02.073263Z"
    }
   },
   "cell_type": "code",
   "source": [
    "comparison = (\n",
    "    ad_data.groupby('is_weekend')[['ad_spend', 'page_views']].mean().rename(index={False: 'Weekday', True: 'Weekend'}).round(2)\n",
    ")\n",
    "print(comparison)\n"
   ],
   "id": "d1cf7bcffe0f1845",
   "outputs": [
    {
     "name": "stdout",
     "output_type": "stream",
     "text": [
      "            ad_spend  page_views\n",
      "is_weekend                      \n",
      "Weekday       268.66     1519.59\n",
      "Weekend       201.86     1636.89\n"
     ]
    }
   ],
   "execution_count": 36
  },
  {
   "metadata": {},
   "cell_type": "markdown",
   "source": "#### Analyze the effect of is_holiday on page_views",
   "id": "518a3363d11262a4"
  },
  {
   "metadata": {
    "ExecuteTime": {
     "end_time": "2025-04-19T16:42:58.809536Z",
     "start_time": "2025-04-19T16:42:58.789688Z"
    }
   },
   "cell_type": "code",
   "source": [
    "compare_holidays=ad_data.groupby('is_holiday')[['page_views']].mean().rename(index={False:'Non Holiday', True: 'Holiday'}).round(2)\n",
    "print(compare_holidays)"
   ],
   "id": "5882eefdab9c509",
   "outputs": [
    {
     "name": "stdout",
     "output_type": "stream",
     "text": [
      "             page_views\n",
      "is_holiday             \n",
      "Non Holiday     1552.57\n",
      "Holiday         1610.17\n"
     ]
    }
   ],
   "execution_count": 38
  },
  {
   "metadata": {},
   "cell_type": "markdown",
   "source": "#### Find correlation between ad_spend and page_views",
   "id": "b3449e2f91815350"
  },
  {
   "metadata": {
    "ExecuteTime": {
     "end_time": "2025-04-19T16:46:14.191934Z",
     "start_time": "2025-04-19T16:46:14.173029Z"
    }
   },
   "cell_type": "code",
   "source": [
    "# Correlation means how much two things are connected i.e. directly proportional or inversely proportional\n",
    "corelation=ad_data['ad_spend'].corr(ad_data['page_views'])\n",
    "print(\"Correlation between Ad Spend & Page views: \",round(correlation,2))"
   ],
   "id": "3a8309d86a5d6ab8",
   "outputs": [
    {
     "name": "stdout",
     "output_type": "stream",
     "text": [
      "Correlation between Ad Spend & Page views:  -0.0\n"
     ]
    }
   ],
   "execution_count": 40
  },
  {
   "metadata": {},
   "cell_type": "markdown",
   "source": "# 3. Metrics & Aggregation",
   "id": "60a4154dca9c5a3c"
  },
  {
   "metadata": {},
   "cell_type": "markdown",
   "source": "#### Create a new column: views_per_dollar = page_views / ad_spend",
   "id": "15ab5837f425ef1"
  },
  {
   "metadata": {
    "ExecuteTime": {
     "end_time": "2025-04-19T17:33:21.337679Z",
     "start_time": "2025-04-19T17:33:21.314324Z"
    }
   },
   "cell_type": "code",
   "source": [
    "ad_data['view_per_dollar']=ad_data['ad_spend']/ad_data['page_views']\n",
    "print(ad_data.head(5))"
   ],
   "id": "c2124b3382b3e72d",
   "outputs": [
    {
     "name": "stdout",
     "output_type": "stream",
     "text": [
      "             page_views    ad_spend  is_weekend day_of_week  is_holiday  \\\n",
      "timestamp                                                                 \n",
      "2022-01-01  1165.962767  194.901425        True    Saturday        True   \n",
      "2022-01-02  1191.485835  175.852071        True      Sunday       False   \n",
      "2022-01-03  1266.928269  269.430656       False      Monday       False   \n",
      "2022-01-04  1364.193858  295.690896       False     Tuesday       False   \n",
      "2022-01-05  1013.282520  242.975399       False   Wednesday       False   \n",
      "\n",
      "            view_per_dollar  \n",
      "timestamp                    \n",
      "2022-01-01         0.167159  \n",
      "2022-01-02         0.147591  \n",
      "2022-01-03         0.212664  \n",
      "2022-01-04         0.216751  \n",
      "2022-01-05         0.239790  \n"
     ]
    }
   ],
   "execution_count": 42
  },
  {
   "metadata": {},
   "cell_type": "markdown",
   "source": "#### Group data by day_of_week and calculate average views_per_dollar",
   "id": "44a9b99fc0304adc"
  },
  {
   "metadata": {
    "ExecuteTime": {
     "end_time": "2025-04-19T17:36:05.703066Z",
     "start_time": "2025-04-19T17:36:05.688758Z"
    }
   },
   "cell_type": "code",
   "source": [
    "view_perDollar_weekdays=ad_data.loc[ad_data['is_weekend']==False,'view_per_dollar'].mean()\n",
    "print(\"Average Views per dollar: \", round(view_perDollar_weekdays,2))"
   ],
   "id": "a9fb11bb80e5d9a2",
   "outputs": [
    {
     "name": "stdout",
     "output_type": "stream",
     "text": [
      "Average Views per dollar:  0.18\n"
     ]
    }
   ],
   "execution_count": 45
  },
  {
   "metadata": {},
   "cell_type": "markdown",
   "source": "#### Resample data by week and month for trend analysis",
   "id": "eb82da04378ededf"
  },
  {
   "metadata": {
    "ExecuteTime": {
     "end_time": "2025-04-19T18:02:28.704271Z",
     "start_time": "2025-04-19T18:02:28.676328Z"
    }
   },
   "cell_type": "code",
   "source": [
    "weekly_data=ad_data.resample('W')[['ad_spend', 'page_views']].sum()\n",
    "print(\"Weekly Data:\\n \",round(weekly_data.head(4),8))\n",
    "monthly_data=ad_data.resample('ME')[['ad_spend', 'page_views']].sum()\n",
    "print(\"Monthly Data:\\n \",round(monthly_data.head(4),8))"
   ],
   "id": "e0accee8b386dd33",
   "outputs": [
    {
     "name": "stdout",
     "output_type": "stream",
     "text": [
      "Weekly Data:\n",
      "                 ad_spend   page_views\n",
      "timestamp                           \n",
      "2022-01-02   370.753496  2357.448603\n",
      "2022-01-09  1717.388037  8282.401647\n",
      "2022-01-16  1479.646678  8702.449200\n",
      "2022-01-23  1558.654673  8115.337922\n",
      "Monthly Data:\n",
      "                 ad_spend    page_views\n",
      "timestamp                            \n",
      "2022-01-31  6862.616595  37655.674858\n",
      "2022-02-28  6319.738621  34350.350564\n",
      "2022-03-31  7230.862649  39531.092265\n",
      "2022-04-30  6851.773536  39290.942654\n"
     ]
    }
   ],
   "execution_count": 64
  },
  {
   "metadata": {},
   "cell_type": "markdown",
   "source": "#### Apply 7-day and 30-day rolling averages to page_views",
   "id": "ab2546e63167db5"
  },
  {
   "metadata": {
    "ExecuteTime": {
     "end_time": "2025-04-19T18:10:01.990670Z",
     "start_time": "2025-04-19T18:10:01.962542Z"
    }
   },
   "cell_type": "code",
   "source": [
    "weekly_average_views=ad_data.resample('W')[['page_views']].mean()\n",
    "print(\"Weekly Average Views:\\n \",round(weekly_average_views,2).head(5))\n",
    "monthly_average_views=ad_data.resample('ME')[['page_views']].mean()\n",
    "print(\"Average Monthly Views:\\n \",round(monthly_average_views,2).head(5))"
   ],
   "id": "b34f94a5f54961f6",
   "outputs": [
    {
     "name": "stdout",
     "output_type": "stream",
     "text": [
      "Weekly Average Views:\n",
      "              page_views\n",
      "timestamp             \n",
      "2022-01-02     1178.72\n",
      "2022-01-09     1183.20\n",
      "2022-01-16     1243.21\n",
      "2022-01-23     1159.33\n",
      "2022-01-30     1239.98\n",
      "Average Monthly Views:\n",
      "              page_views\n",
      "timestamp             \n",
      "2022-01-31     1214.70\n",
      "2022-02-28     1226.80\n",
      "2022-03-31     1275.20\n",
      "2022-04-30     1309.70\n",
      "2022-05-31     1367.82\n"
     ]
    }
   ],
   "execution_count": 73
  },
  {
   "metadata": {},
   "cell_type": "markdown",
   "source": "# 4.  Insights & Analysis",
   "id": "e1228d0e75f66f47"
  },
  {
   "metadata": {},
   "cell_type": "markdown",
   "source": "#### Identify top 10 days with highest views_per_dollar",
   "id": "88613e6ef1c1a02e"
  },
  {
   "metadata": {
    "ExecuteTime": {
     "end_time": "2025-04-19T18:21:35.379981Z",
     "start_time": "2025-04-19T18:21:35.364229Z"
    }
   },
   "cell_type": "code",
   "source": [
    "top10_views_per_dollar=ad_data.sort_values('view_per_dollar',ascending=False)\n",
    "print(top10_views_per_dollar['view_per_dollar'].head(10))"
   ],
   "id": "f9fe535862a9d72d",
   "outputs": [
    {
     "name": "stdout",
     "output_type": "stream",
     "text": [
      "timestamp\n",
      "2022-09-01    0.561147\n",
      "2022-05-06    0.558999\n",
      "2022-08-31    0.547987\n",
      "2022-09-02    0.435255\n",
      "2022-05-12    0.430514\n",
      "2023-05-10    0.429679\n",
      "2023-05-11    0.402647\n",
      "2022-11-10    0.400442\n",
      "2022-08-30    0.399939\n",
      "2024-11-28    0.378644\n",
      "Name: view_per_dollar, dtype: float64\n"
     ]
    }
   ],
   "execution_count": 84
  },
  {
   "metadata": {},
   "cell_type": "markdown",
   "source": "#### Determine if ad spend is higher or lower during weekends",
   "id": "e642ef3e502e8bad"
  },
  {
   "metadata": {
    "ExecuteTime": {
     "end_time": "2025-04-19T18:31:05.812916Z",
     "start_time": "2025-04-19T18:31:05.788489Z"
    }
   },
   "cell_type": "code",
   "source": [
    "compare_adSpend=ad_data.groupby('is_weekend')[['ad_spend']].mean().rename(index={False:'Weekdays',True:'Weekend'})\n",
    "print(round(compare_adSpend,2))"
   ],
   "id": "62b9b8ea56e0da5c",
   "outputs": [
    {
     "name": "stdout",
     "output_type": "stream",
     "text": [
      "            ad_spend\n",
      "is_weekend          \n",
      "Weekdays      268.66\n",
      "Weekend       201.86\n"
     ]
    }
   ],
   "execution_count": 87
  },
  {
   "metadata": {},
   "cell_type": "markdown",
   "source": "# 5. Final Summary",
   "id": "ed35fbe8963c6334"
  },
  {
   "metadata": {},
   "cell_type": "markdown",
   "source": [
    "- Average spending is lower on weekends(201.86) as compared to weekdays(268.66). Weekend page views are higher than weekdays\n",
    "- Average page views are high on holidays(1610.17) than holidays(1552.57)\n",
    "- The average per dollar is 0.18"
   ],
   "id": "a2586f3eef381a8f"
  },
  {
   "metadata": {},
   "cell_type": "markdown",
   "source": "#### Save cleaned data to a new CSV file",
   "id": "91671fa2aee82c1c"
  },
  {
   "metadata": {
    "ExecuteTime": {
     "end_time": "2025-04-19T18:43:21.958897Z",
     "start_time": "2025-04-19T18:43:21.907930Z"
    }
   },
   "cell_type": "code",
   "source": [
    "ad_data.to_csv('processed_adData.csv')\n",
    "print(\"Data saved to new file: Processed ad data\")"
   ],
   "id": "9f1677628b69c9c4",
   "outputs": [
    {
     "name": "stdout",
     "output_type": "stream",
     "text": [
      "Data saved to new file: Processed ad data\n"
     ]
    }
   ],
   "execution_count": 88
  },
  {
   "metadata": {},
   "cell_type": "code",
   "outputs": [],
   "execution_count": null,
   "source": "",
   "id": "77680b776fe9d5ba"
  }
 ],
 "metadata": {
  "kernelspec": {
   "display_name": "Python 3",
   "language": "python",
   "name": "python3"
  },
  "language_info": {
   "codemirror_mode": {
    "name": "ipython",
    "version": 2
   },
   "file_extension": ".py",
   "mimetype": "text/x-python",
   "name": "python",
   "nbconvert_exporter": "python",
   "pygments_lexer": "ipython2",
   "version": "2.7.6"
  }
 },
 "nbformat": 4,
 "nbformat_minor": 5
}
